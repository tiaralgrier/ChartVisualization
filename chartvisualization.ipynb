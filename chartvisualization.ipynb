{
 "cells": [
  {
   "cell_type": "code",
   "execution_count": 4,
   "metadata": {},
   "outputs": [],
   "source": [
    "# import matplotlib, colormap, and pandas\n",
    "from matplotlib import pyplot as plt\n",
    "import pandas as pd\n",
    "\n",
    "# load data\n",
    "ic_data = pd.read_csv('icecream_data.csv')"
   ]
  },
  {
   "cell_type": "code",
   "execution_count": 5,
   "metadata": {},
   "outputs": [],
   "source": [
    "# display graphs correctly\n",
    "%matplotlib inline\n",
    "plt.rcParams['figure.figsize'] = (5, 3)\n",
    "plt.rcParams['figure.dpi'] = 75"
   ]
  },
  {
   "cell_type": "code",
   "execution_count": 6,
   "metadata": {},
   "outputs": [
    {
     "data": {
      "text/html": [
       "<div>\n",
       "<style scoped>\n",
       "    .dataframe tbody tr th:only-of-type {\n",
       "        vertical-align: middle;\n",
       "    }\n",
       "\n",
       "    .dataframe tbody tr th {\n",
       "        vertical-align: top;\n",
       "    }\n",
       "\n",
       "    .dataframe thead th {\n",
       "        text-align: right;\n",
       "    }\n",
       "</style>\n",
       "<table border=\"1\" class=\"dataframe\">\n",
       "  <thead>\n",
       "    <tr style=\"text-align: right;\">\n",
       "      <th></th>\n",
       "      <th>day</th>\n",
       "      <th>date</th>\n",
       "      <th>day_of_week</th>\n",
       "      <th>day_of_week_num</th>\n",
       "      <th>humidity_afternoon</th>\n",
       "      <th>max_temp</th>\n",
       "      <th>sales_error</th>\n",
       "      <th>sales_total</th>\n",
       "      <th>top_flavor</th>\n",
       "    </tr>\n",
       "  </thead>\n",
       "  <tbody>\n",
       "    <tr>\n",
       "      <th>0</th>\n",
       "      <td>1</td>\n",
       "      <td>08-01</td>\n",
       "      <td>monday</td>\n",
       "      <td>0</td>\n",
       "      <td>61</td>\n",
       "      <td>86</td>\n",
       "      <td>4.37</td>\n",
       "      <td>619.89</td>\n",
       "      <td>coffee</td>\n",
       "    </tr>\n",
       "    <tr>\n",
       "      <th>1</th>\n",
       "      <td>2</td>\n",
       "      <td>08-02</td>\n",
       "      <td>tuesday</td>\n",
       "      <td>1</td>\n",
       "      <td>59</td>\n",
       "      <td>87</td>\n",
       "      <td>2.92</td>\n",
       "      <td>562.28</td>\n",
       "      <td>moosetracks</td>\n",
       "    </tr>\n",
       "    <tr>\n",
       "      <th>2</th>\n",
       "      <td>3</td>\n",
       "      <td>08-03</td>\n",
       "      <td>wednesday</td>\n",
       "      <td>2</td>\n",
       "      <td>52</td>\n",
       "      <td>81</td>\n",
       "      <td>4.28</td>\n",
       "      <td>604.46</td>\n",
       "      <td>coffee</td>\n",
       "    </tr>\n",
       "    <tr>\n",
       "      <th>3</th>\n",
       "      <td>4</td>\n",
       "      <td>08-04</td>\n",
       "      <td>thursday</td>\n",
       "      <td>3</td>\n",
       "      <td>54</td>\n",
       "      <td>88</td>\n",
       "      <td>4.32</td>\n",
       "      <td>667.19</td>\n",
       "      <td>coffee</td>\n",
       "    </tr>\n",
       "    <tr>\n",
       "      <th>4</th>\n",
       "      <td>5</td>\n",
       "      <td>08-05</td>\n",
       "      <td>friday</td>\n",
       "      <td>4</td>\n",
       "      <td>54</td>\n",
       "      <td>87</td>\n",
       "      <td>8.91</td>\n",
       "      <td>693.86</td>\n",
       "      <td>coffee</td>\n",
       "    </tr>\n",
       "  </tbody>\n",
       "</table>\n",
       "</div>"
      ],
      "text/plain": [
       "   day   date day_of_week  day_of_week_num  humidity_afternoon  max_temp  \\\n",
       "0    1  08-01      monday                0                  61        86   \n",
       "1    2  08-02     tuesday                1                  59        87   \n",
       "2    3  08-03   wednesday                2                  52        81   \n",
       "3    4  08-04    thursday                3                  54        88   \n",
       "4    5  08-05      friday                4                  54        87   \n",
       "\n",
       "   sales_error  sales_total   top_flavor  \n",
       "0         4.37       619.89       coffee  \n",
       "1         2.92       562.28  moosetracks  \n",
       "2         4.28       604.46       coffee  \n",
       "3         4.32       667.19       coffee  \n",
       "4         8.91       693.86       coffee  "
      ]
     },
     "execution_count": 6,
     "metadata": {},
     "output_type": "execute_result"
    }
   ],
   "source": [
    "ic_data.head()"
   ]
  },
  {
   "cell_type": "markdown",
   "metadata": {},
   "source": [
    "### Bar Graph\n",
    "\n",
    "1. First up, make a bar chart to examine sales numbers for each day of the month. Add a horizontal AB line at $640, the owner’s benchmark for a successful sales day. Add error bars using the sales_error column."
   ]
  },
  {
   "cell_type": "code",
   "execution_count": 7,
   "metadata": {},
   "outputs": [
    {
     "data": {
      "image/png": "[encoded data removed]",
      "text/plain": [
       "<Figure size 375x225 with 1 Axes>"
      ]
     },
     "metadata": {},
     "output_type": "display_data"
    }
   ],
   "source": [
    "# make a bar chart\n",
    "plt.bar(x = ic_data.day, height = ic_data.sales_total)\n",
    "plt.axhline(y = 640, linewidth = 1)\n",
    "plt.errorbar(x = ic_data.day, y = ic_data.sales_total, yerr = ic_data.sales_error)\n",
    "\n",
    "plt.title('Ice Cream Sales in August')\n",
    "plt.xlabel('Day in August')\n",
    "plt.ylabel('Sales')\n",
    "plt.show()"
   ]
  },
  {
   "cell_type": "code",
   "execution_count": 20,
   "metadata": {},
   "outputs": [
    {
     "data": {
      "text/plain": [
       "<Figure size 900x450 with 0 Axes>"
      ]
     },
     "metadata": {},
     "output_type": "display_data"
    }
   ],
   "source": [
    "plt.savefig('ice_cream_sales-bar_graph_august.png', bbox_inches='tight', dpi=350)"
   ]
  },
  {
   "cell_type": "markdown",
   "metadata": {},
   "source": [
    "2. There definitely appears to be some kind of pattern, so let’s visualize this data by day of the week. Run the cell below to create a new avg_by_day dataframe. This script groups the sales data by day of the week and returns the average sales data for each day, so that we can make one averaged bar for each day. (If you want to learn how to do this on your own using pandas, check out our Data Science with Python content!)"
   ]
  },
  {
   "cell_type": "code",
   "execution_count": 8,
   "metadata": {},
   "outputs": [
    {
     "data": {
      "text/html": [
       "<div>\n",
       "<style scoped>\n",
       "    .dataframe tbody tr th:only-of-type {\n",
       "        vertical-align: middle;\n",
       "    }\n",
       "\n",
       "    .dataframe tbody tr th {\n",
       "        vertical-align: top;\n",
       "    }\n",
       "\n",
       "    .dataframe thead th {\n",
       "        text-align: right;\n",
       "    }\n",
       "</style>\n",
       "<table border=\"1\" class=\"dataframe\">\n",
       "  <thead>\n",
       "    <tr style=\"text-align: right;\">\n",
       "      <th></th>\n",
       "      <th>day_of_week</th>\n",
       "      <th>sales_avg</th>\n",
       "    </tr>\n",
       "  </thead>\n",
       "  <tbody>\n",
       "    <tr>\n",
       "      <th>0</th>\n",
       "      <td>monday</td>\n",
       "      <td>609.6780</td>\n",
       "    </tr>\n",
       "    <tr>\n",
       "      <th>1</th>\n",
       "      <td>tuesday</td>\n",
       "      <td>597.8500</td>\n",
       "    </tr>\n",
       "    <tr>\n",
       "      <th>2</th>\n",
       "      <td>wednesday</td>\n",
       "      <td>627.3640</td>\n",
       "    </tr>\n",
       "    <tr>\n",
       "      <th>3</th>\n",
       "      <td>thursday</td>\n",
       "      <td>681.6525</td>\n",
       "    </tr>\n",
       "    <tr>\n",
       "      <th>4</th>\n",
       "      <td>friday</td>\n",
       "      <td>714.4100</td>\n",
       "    </tr>\n",
       "    <tr>\n",
       "      <th>5</th>\n",
       "      <td>saturday</td>\n",
       "      <td>795.4200</td>\n",
       "    </tr>\n",
       "    <tr>\n",
       "      <th>6</th>\n",
       "      <td>sunday</td>\n",
       "      <td>751.6550</td>\n",
       "    </tr>\n",
       "  </tbody>\n",
       "</table>\n",
       "</div>"
      ],
      "text/plain": [
       "  day_of_week  sales_avg\n",
       "0      monday   609.6780\n",
       "1     tuesday   597.8500\n",
       "2   wednesday   627.3640\n",
       "3    thursday   681.6525\n",
       "4      friday   714.4100\n",
       "5    saturday   795.4200\n",
       "6      sunday   751.6550"
      ]
     },
     "execution_count": 8,
     "metadata": {},
     "output_type": "execute_result"
    }
   ],
   "source": [
    "# create our averaged bar graph data\n",
    "avg_by_day = ic_data.groupby([ic_data['day_of_week_num'], ic_data['day_of_week']])['sales_total'].mean()\n",
    "avg_by_day = avg_by_day.droplevel(0,'index').reset_index(name='sales_avg')\n",
    "avg_by_day"
   ]
  },
  {
   "cell_type": "markdown",
   "metadata": {},
   "source": [
    "3. Using our new avg_by_day dataframe, make a bar chart by day of the week to help the owner see which day has the best sales, and which has the worst. Add the horizontal AB line at $640 again for reference. If the owner decides to close up shop one or two days of the week, which days make most sense?"
   ]
  },
  {
   "cell_type": "code",
   "execution_count": 9,
   "metadata": {},
   "outputs": [
    {
     "data": {
      "image/png": "[encoded data removed]",
      "text/plain": [
       "<Figure size 375x225 with 1 Axes>"
      ]
     },
     "metadata": {},
     "output_type": "display_data"
    }
   ],
   "source": [
    "# make a bar chart by day of the week\n",
    "plt.bar(x = avg_by_day.day_of_week, height = avg_by_day.sales_avg)\n",
    "plt.axhline(y = 640, linewidth = 1)\n",
    "\n",
    "plt.title('Ice Cream Sales by Day')\n",
    "plt.xlabel('Day')\n",
    "plt.ylabel('Sales ($)')\n",
    "plt.show()"
   ]
  },
  {
   "cell_type": "code",
   "execution_count": 19,
   "metadata": {},
   "outputs": [
    {
     "data": {
      "text/plain": [
       "<Figure size 900x450 with 0 Axes>"
      ]
     },
     "metadata": {},
     "output_type": "display_data"
    }
   ],
   "source": [
    "plt.savefig('ice_cream_sales-bar_graph_day.png', bbox_inches='tight', dpi=350)"
   ]
  },
  {
   "cell_type": "markdown",
   "metadata": {},
   "source": [
    "### Pie Chart\n",
    "\n",
    "4. Next, let’s use a pie chart to visualize the top-selling flavors. Silly’s serves 16 flavors of ice cream – how many were the most popular flavor on at least one day in August? How do they compare to one another? Run the cell below to calculate the total count for each flavor that was listed as a top-seller in August. This code counts up the unique values in the top_flavor column of our original dataset and creates a new dataframe from them called popular_flavors. (Again, if you want to learn how to do this, check out our Data Science with Python course!)"
   ]
  },
  {
   "cell_type": "code",
   "execution_count": 10,
   "metadata": {},
   "outputs": [
    {
     "data": {
      "text/html": [
       "<div>\n",
       "<style scoped>\n",
       "    .dataframe tbody tr th:only-of-type {\n",
       "        vertical-align: middle;\n",
       "    }\n",
       "\n",
       "    .dataframe tbody tr th {\n",
       "        vertical-align: top;\n",
       "    }\n",
       "\n",
       "    .dataframe thead th {\n",
       "        text-align: right;\n",
       "    }\n",
       "</style>\n",
       "<table border=\"1\" class=\"dataframe\">\n",
       "  <thead>\n",
       "    <tr style=\"text-align: right;\">\n",
       "      <th></th>\n",
       "      <th>flavor</th>\n",
       "      <th>count</th>\n",
       "    </tr>\n",
       "  </thead>\n",
       "  <tbody>\n",
       "    <tr>\n",
       "      <th>0</th>\n",
       "      <td>coffee</td>\n",
       "      <td>16</td>\n",
       "    </tr>\n",
       "    <tr>\n",
       "      <th>1</th>\n",
       "      <td>moosetracks</td>\n",
       "      <td>11</td>\n",
       "    </tr>\n",
       "    <tr>\n",
       "      <th>2</th>\n",
       "      <td>mint chip</td>\n",
       "      <td>4</td>\n",
       "    </tr>\n",
       "  </tbody>\n",
       "</table>\n",
       "</div>"
      ],
      "text/plain": [
       "        flavor  count\n",
       "0       coffee     16\n",
       "1  moosetracks     11\n",
       "2    mint chip      4"
      ]
     },
     "execution_count": 10,
     "metadata": {},
     "output_type": "execute_result"
    }
   ],
   "source": [
    "# run this cell to create the data for our pie chart\n",
    "# moosetracks is vanilla ice cream with mini peanut butter cups and fudge swirled in\n",
    "popular_flavors = ic_data.top_flavor.value_counts().rename_axis('flavor').reset_index(name='count')\n",
    "popular_flavors"
   ]
  },
  {
   "cell_type": "markdown",
   "metadata": {},
   "source": [
    "5. Create a pie chart using the new popular_flavors dataframe. We recommend using tan, saddlebrown, and lightgreen for the three flavors."
   ]
  },
  {
   "cell_type": "code",
   "execution_count": 21,
   "metadata": {},
   "outputs": [
    {
     "data": {
      "image/png": "[encoded data removed]",
      "text/plain": [
       "<Figure size 900x450 with 1 Axes>"
      ]
     },
     "metadata": {},
     "output_type": "display_data"
    }
   ],
   "source": [
    "# pie chart\n",
    "plt.pie(x = popular_flavors['count'], colors = ['tan', 'saddlebrown', 'lightgreen'], labels=['coffe', 'moosetracks', 'mint chip'])\n",
    "\n",
    "plt.show()"
   ]
  },
  {
   "cell_type": "code",
   "execution_count": 17,
   "metadata": {},
   "outputs": [
    {
     "data": {
      "text/plain": [
       "<Figure size 900x450 with 0 Axes>"
      ]
     },
     "metadata": {},
     "output_type": "display_data"
    }
   ],
   "source": [
    "plt.savefig('ice_cream_sales-pie_chart.png', bbox_inches='tight', dpi=350)"
   ]
  },
  {
   "cell_type": "markdown",
   "metadata": {},
   "source": [
    "### Scatterplot\n",
    "\n",
    "6. Now, the owner is curious about the impact of weather on sales. Using our original dataset again, make two scatterplots in subplots to compare the effect of temperature on ice cream sales, and the effect of humidity on ice cream sales. (These columns are called max_temp and humidity_afternoon in our ic_data dataframe.) Should the owner consider adjusting the shop’s opening hours or days based on weather predictions, or preparing for high-volume days correlated with temperature or humidity?"
   ]
  },
  {
   "cell_type": "code",
   "execution_count": 12,
   "metadata": {},
   "outputs": [
    {
     "data": {
      "image/png": "[encoded data removed]",
      "text/plain": [
       "<Figure size 900x450 with 2 Axes>"
      ]
     },
     "metadata": {},
     "output_type": "display_data"
    }
   ],
   "source": [
    "# scatterplot\n",
    "plt.rcParams['figure.figsize'] = (12, 6)\n",
    "\n",
    "plt.suptitle('Effect of Temperature & Humidity on Ice Cream Sales')\n",
    "\n",
    "plt.subplot(1, 2, 1)\n",
    "plt.scatter(ic_data.sales_total, ic_data.humidity_afternoon, color = 'red')\n",
    "plt.ylabel('Temperature (F)')\n",
    "plt.xlabel('Sales ($)')\n",
    "\n",
    "plt.subplot(1, 2, 2)\n",
    "plt.scatter(ic_data.sales_total, ic_data.humidity_afternoon, color = 'blue')\n",
    "plt.ylabel('Humidity (%)')\n",
    "plt.xlabel('Sales ($)')\n",
    "plt.show()"
   ]
  },
  {
   "cell_type": "code",
   "execution_count": 16,
   "metadata": {},
   "outputs": [
    {
     "data": {
      "text/plain": [
       "<Figure size 900x450 with 0 Axes>"
      ]
     },
     "metadata": {},
     "output_type": "display_data"
    }
   ],
   "source": [
    "plt.savefig('ice_cream_sales-scatterplot.png', bbox_inches='tight', dpi=350)"
   ]
  },
  {
   "cell_type": "markdown",
   "metadata": {},
   "source": [
    "### Histogram\n",
    "\n",
    "7. Finally, let’s see how the sales data is distributed. Make a 10-bin histogram of the sales_total data."
   ]
  },
  {
   "cell_type": "code",
   "execution_count": 13,
   "metadata": {},
   "outputs": [
    {
     "data": {
      "image/png": "[encoded data removed]",
      "text/plain": [
       "<Figure size 900x450 with 1 Axes>"
      ]
     },
     "metadata": {},
     "output_type": "display_data"
    }
   ],
   "source": [
    "#histogram \n",
    "plt.hist(x = ic_data.sales_total, bins = 10)\n",
    "\n",
    "plt.title('August Sales Total Distribution')\n",
    "plt.xlabel('Sales Totals')\n",
    "plt.ylabel('Count of Days')\n",
    "\n",
    "plt.show()"
   ]
  },
  {
   "cell_type": "markdown",
   "metadata": {},
   "source": [
    "8. Add a vertical AB line in a contrasting color at $640 to show the owner’s benchmark for a successful day of sales. Is most of the data above or below that line?"
   ]
  },
  {
   "cell_type": "code",
   "execution_count": 14,
   "metadata": {},
   "outputs": [
    {
     "data": {
      "image/png": "[encoded data removed]",
      "text/plain": [
       "<Figure size 900x450 with 1 Axes>"
      ]
     },
     "metadata": {},
     "output_type": "display_data"
    }
   ],
   "source": [
    "#histogram \n",
    "plt.hist(x = ic_data.sales_total, bins = 10)\n",
    "plt.axvline(x=640, ymin=0, ymax=1, linewidth = 6, dashes=(1, 2), color='orange')\n",
    "\n",
    "plt.title('August Sales Total Distribution')\n",
    "plt.xlabel('Sales Totals')\n",
    "plt.ylabel('Count of Days')\n",
    "\n",
    "plt.show()"
   ]
  },
  {
   "cell_type": "code",
   "execution_count": 15,
   "metadata": {},
   "outputs": [
    {
     "data": {
      "text/plain": [
       "<Figure size 900x450 with 0 Axes>"
      ]
     },
     "metadata": {},
     "output_type": "display_data"
    }
   ],
   "source": [
    "plt.savefig('ice_cream_sales-bar_chart.png', bbox_inches='tight', dpi=350)"
   ]
  }
 ],
 "metadata": {
  "kernelspec": {
   "display_name": "base",
   "language": "python",
   "name": "python3"
  },
  "language_info": {
   "codemirror_mode": {
    "name": "ipython",
    "version": 3
   },
   "file_extension": ".py",
   "mimetype": "text/x-python",
   "name": "python",
   "nbconvert_exporter": "python",
   "pygments_lexer": "ipython3",
   "version": "3.12.4"
  }
 },
 "nbformat": 4,
 "nbformat_minor": 2
}
